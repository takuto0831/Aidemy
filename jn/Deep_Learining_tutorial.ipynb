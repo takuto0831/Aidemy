{
 "cells": [
  {
   "cell_type": "markdown",
   "metadata": {},
   "source": [
    "## ディープラーニング基礎"
   ]
  },
  {
   "cell_type": "markdown",
   "metadata": {},
   "source": [
    "### 準備"
   ]
  },
  {
   "cell_type": "code",
   "execution_count": 79,
   "metadata": {},
   "outputs": [],
   "source": [
    "# import module\n",
    "from keras import optimizers\n",
    "from keras.callbacks import LearningRateScheduler\n",
    "from keras.datasets import mnist\n",
    "from keras.models import Sequential\n",
    "from keras.layers import Dense, Activation, Dropout\n",
    "from keras.utils.vis_utils import plot_model\n",
    "from keras.utils.np_utils import to_categorical\n",
    "import matplotlib.pyplot as plt\n",
    "\n",
    "(X_train, y_train), (X_test, y_test) = mnist.load_data()"
   ]
  },
  {
   "cell_type": "code",
   "execution_count": 80,
   "metadata": {},
   "outputs": [
    {
     "name": "stdout",
     "output_type": "stream",
     "text": [
      "(60000, 28, 28) (60000,) (10000, 28, 28) (10000,)\n"
     ]
    }
   ],
   "source": [
    "# print shape\n",
    "print(X_train.shape, y_train.shape,X_test.shape,y_test.shape)"
   ]
  },
  {
   "cell_type": "code",
   "execution_count": 81,
   "metadata": {},
   "outputs": [],
   "source": [
    "# reshape\n",
    "# 60000行, 784列(文字情報ベクトル)に変換する\n",
    "# 訓練データ; 6000, テストデータ: 1000とする\n",
    "X_train = X_train.reshape(X_train.shape[0], 784)[:6000]\n",
    "X_test = X_test.reshape(X_test.shape[0], 784)[:1000]\n",
    "y_train = to_categorical(y_train)[:6000]\n",
    "y_test = to_categorical(y_test)[:1000]"
   ]
  },
  {
   "cell_type": "markdown",
   "metadata": {},
   "source": [
    "### モデル構築"
   ]
  },
  {
   "cell_type": "code",
   "execution_count": 84,
   "metadata": {},
   "outputs": [],
   "source": [
    "# モデルインスタンスを作成する\n",
    "model = Sequential()\n",
    "# 入力ユニット数は784, 1つ目の全結合層の出力ユニット数は256\n",
    "model.add(Dense(256, input_dim=784))\n",
    "# 活性化関数(sigmoid)\n",
    "model.add(Activation(\"sigmoid\"))\n",
    "# 入力ユニット数は256, 2つ目の全結合層の出力ユニット数は128\n",
    "model.add(Dense(128))\n",
    "model.add(Activation(\"relu\"))\n",
    "# 3つ目の全結合層（出力層）の出力ユニット数は10\n",
    "model.add(Dense(10))\n",
    "model.add(Activation(\"softmax\"))\n",
    "\n",
    "# optimizer\n",
    "sgd = optimizers.SGD(lr=0.1)\n",
    "\n",
    "model.compile(optimizer=\"sgd\", loss=\"categorical_crossentropy\", \n",
    "              metrics=[\"accuracy\"])"
   ]
  },
  {
   "cell_type": "code",
   "execution_count": 83,
   "metadata": {},
   "outputs": [
    {
     "data": {
      "image/png": "[encoded data removed]",
      "text/plain": [
       "<Figure size 900x600 with 1 Axes>"
      ]
     },
     "metadata": {},
     "output_type": "display_data"
    }
   ],
   "source": [
    "# モデル構造の出力\n",
    "plot_model(model, \"../image/model_str1.png\", show_layer_names=False)\n",
    "# モデル構造の可視化\n",
    "image = plt.imread(\"../image/model_str1.png\")\n",
    "plt.figure(dpi=150)\n",
    "plt.imshow(image)\n",
    "plt.show()"
   ]
  },
  {
   "cell_type": "markdown",
   "metadata": {},
   "source": [
    "### モデルの学習と評価"
   ]
  },
  {
   "cell_type": "code",
   "execution_count": 85,
   "metadata": {},
   "outputs": [
    {
     "name": "stdout",
     "output_type": "stream",
     "text": [
      "Epoch 1/100\n",
      "6000/6000 [==============================] - 1s 189us/step - loss: 1.3531 - acc: 0.6385\n",
      "Epoch 2/100\n",
      "6000/6000 [==============================] - 1s 104us/step - loss: 0.6365 - acc: 0.8502\n",
      "Epoch 3/100\n",
      "6000/6000 [==============================] - 1s 102us/step - loss: 0.4630 - acc: 0.8853\n",
      "Epoch 4/100\n",
      "6000/6000 [==============================] - 1s 102us/step - loss: 0.3838 - acc: 0.8987\n",
      "Epoch 5/100\n",
      "6000/6000 [==============================] - 1s 117us/step - loss: 0.3395 - acc: 0.9125\n",
      "Epoch 6/100\n",
      "6000/6000 [==============================] - 1s 122us/step - loss: 0.3114 - acc: 0.9152\n",
      "Epoch 7/100\n",
      "6000/6000 [==============================] - 1s 106us/step - loss: 0.2849 - acc: 0.9227\n",
      "Epoch 8/100\n",
      "6000/6000 [==============================] - 1s 120us/step - loss: 0.2662 - acc: 0.9338\n",
      "Epoch 9/100\n",
      "6000/6000 [==============================] - 1s 120us/step - loss: 0.2523 - acc: 0.9348\n",
      "Epoch 10/100\n",
      "6000/6000 [==============================] - 1s 106us/step - loss: 0.2400 - acc: 0.9352\n",
      "Epoch 11/100\n",
      "6000/6000 [==============================] - 1s 105us/step - loss: 0.2297 - acc: 0.9393\n",
      "Epoch 12/100\n",
      "6000/6000 [==============================] - 1s 104us/step - loss: 0.2146 - acc: 0.9407\n",
      "Epoch 13/100\n",
      "6000/6000 [==============================] - 1s 104us/step - loss: 0.2021 - acc: 0.9467\n",
      "Epoch 14/100\n",
      "6000/6000 [==============================] - 1s 119us/step - loss: 0.1918 - acc: 0.9482\n",
      "Epoch 15/100\n",
      "6000/6000 [==============================] - 1s 118us/step - loss: 0.1825 - acc: 0.9517\n",
      "Epoch 16/100\n",
      "6000/6000 [==============================] - 1s 135us/step - loss: 0.1848 - acc: 0.9517\n",
      "Epoch 17/100\n",
      "6000/6000 [==============================] - 1s 126us/step - loss: 0.1794 - acc: 0.9532\n",
      "Epoch 18/100\n",
      "6000/6000 [==============================] - 1s 114us/step - loss: 0.1624 - acc: 0.9563\n",
      "Epoch 19/100\n",
      "6000/6000 [==============================] - 1s 106us/step - loss: 0.1653 - acc: 0.9535\n",
      "Epoch 20/100\n",
      "6000/6000 [==============================] - 1s 137us/step - loss: 0.1664 - acc: 0.9542\n",
      "Epoch 21/100\n",
      "6000/6000 [==============================] - 1s 114us/step - loss: 0.1593 - acc: 0.9592\n",
      "Epoch 22/100\n",
      "6000/6000 [==============================] - 1s 114us/step - loss: 0.1523 - acc: 0.9607\n",
      "Epoch 23/100\n",
      "6000/6000 [==============================] - 1s 116us/step - loss: 0.1539 - acc: 0.9620\n",
      "Epoch 24/100\n",
      "6000/6000 [==============================] - 1s 147us/step - loss: 0.1398 - acc: 0.9622\n",
      "Epoch 25/100\n",
      "6000/6000 [==============================] - 1s 151us/step - loss: 0.1339 - acc: 0.9662\n",
      "Epoch 26/100\n",
      "6000/6000 [==============================] - 1s 120us/step - loss: 0.1343 - acc: 0.9648\n",
      "Epoch 27/100\n",
      "6000/6000 [==============================] - 1s 133us/step - loss: 0.1289 - acc: 0.9658\n",
      "Epoch 28/100\n",
      "6000/6000 [==============================] - 1s 114us/step - loss: 0.1299 - acc: 0.9670\n",
      "Epoch 29/100\n",
      "6000/6000 [==============================] - 1s 144us/step - loss: 0.1241 - acc: 0.9685\n",
      "Epoch 30/100\n",
      "6000/6000 [==============================] - 1s 126us/step - loss: 0.1182 - acc: 0.9695\n",
      "Epoch 31/100\n",
      "6000/6000 [==============================] - 1s 131us/step - loss: 0.1061 - acc: 0.9737\n",
      "Epoch 32/100\n",
      "6000/6000 [==============================] - 1s 133us/step - loss: 0.1038 - acc: 0.9727\n",
      "Epoch 33/100\n",
      "6000/6000 [==============================] - 1s 129us/step - loss: 0.0947 - acc: 0.9767\n",
      "Epoch 34/100\n",
      "6000/6000 [==============================] - 1s 114us/step - loss: 0.0919 - acc: 0.9765\n",
      "Epoch 35/100\n",
      "6000/6000 [==============================] - 1s 111us/step - loss: 0.0871 - acc: 0.9762\n",
      "Epoch 36/100\n",
      "6000/6000 [==============================] - 1s 110us/step - loss: 0.0843 - acc: 0.9793\n",
      "Epoch 37/100\n",
      "6000/6000 [==============================] - 1s 107us/step - loss: 0.0842 - acc: 0.9807\n",
      "Epoch 38/100\n",
      "6000/6000 [==============================] - 1s 130us/step - loss: 0.0808 - acc: 0.9810\n",
      "Epoch 39/100\n",
      "6000/6000 [==============================] - 1s 121us/step - loss: 0.0738 - acc: 0.9828\n",
      "Epoch 40/100\n",
      "6000/6000 [==============================] - 1s 110us/step - loss: 0.0693 - acc: 0.9847\n",
      "Epoch 41/100\n",
      "6000/6000 [==============================] - 1s 110us/step - loss: 0.0726 - acc: 0.9848\n",
      "Epoch 42/100\n",
      "6000/6000 [==============================] - 1s 134us/step - loss: 0.0707 - acc: 0.9838\n",
      "Epoch 43/100\n",
      "6000/6000 [==============================] - 1s 128us/step - loss: 0.0672 - acc: 0.9858\n",
      "Epoch 44/100\n",
      "6000/6000 [==============================] - 1s 122us/step - loss: 0.0693 - acc: 0.9857\n",
      "Epoch 45/100\n",
      "6000/6000 [==============================] - 1s 134us/step - loss: 0.0706 - acc: 0.9843\n",
      "Epoch 46/100\n",
      "6000/6000 [==============================] - 1s 117us/step - loss: 0.0685 - acc: 0.9838\n",
      "Epoch 47/100\n",
      "6000/6000 [==============================] - 1s 125us/step - loss: 0.0692 - acc: 0.9842\n",
      "Epoch 48/100\n",
      "6000/6000 [==============================] - 1s 130us/step - loss: 0.0620 - acc: 0.9867\n",
      "Epoch 49/100\n",
      "6000/6000 [==============================] - 1s 120us/step - loss: 0.0565 - acc: 0.9878\n",
      "Epoch 50/100\n",
      "6000/6000 [==============================] - 1s 107us/step - loss: 0.0545 - acc: 0.9895\n",
      "Epoch 51/100\n",
      "6000/6000 [==============================] - 1s 109us/step - loss: 0.0550 - acc: 0.9873\n",
      "Epoch 52/100\n",
      "6000/6000 [==============================] - 1s 116us/step - loss: 0.0551 - acc: 0.9878\n",
      "Epoch 53/100\n",
      "6000/6000 [==============================] - 1s 112us/step - loss: 0.0467 - acc: 0.9913\n",
      "Epoch 54/100\n",
      "6000/6000 [==============================] - 1s 113us/step - loss: 0.0423 - acc: 0.9915\n",
      "Epoch 55/100\n",
      "6000/6000 [==============================] - 1s 153us/step - loss: 0.0447 - acc: 0.9917\n",
      "Epoch 56/100\n",
      "6000/6000 [==============================] - 1s 113us/step - loss: 0.0443 - acc: 0.9900\n",
      "Epoch 57/100\n",
      "6000/6000 [==============================] - 1s 144us/step - loss: 0.0390 - acc: 0.9925\n",
      "Epoch 58/100\n",
      "6000/6000 [==============================] - 1s 107us/step - loss: 0.0351 - acc: 0.9943\n",
      "Epoch 59/100\n",
      "6000/6000 [==============================] - 1s 112us/step - loss: 0.0324 - acc: 0.9952\n",
      "Epoch 60/100\n",
      "6000/6000 [==============================] - 1s 106us/step - loss: 0.0286 - acc: 0.9953\n",
      "Epoch 61/100\n",
      "6000/6000 [==============================] - 1s 106us/step - loss: 0.0271 - acc: 0.9957\n",
      "Epoch 62/100\n",
      "6000/6000 [==============================] - 1s 106us/step - loss: 0.0259 - acc: 0.9963\n",
      "Epoch 63/100\n",
      "6000/6000 [==============================] - 1s 112us/step - loss: 0.0244 - acc: 0.9962\n",
      "Epoch 64/100\n",
      "6000/6000 [==============================] - 1s 109us/step - loss: 0.0217 - acc: 0.9973\n",
      "Epoch 65/100\n",
      "6000/6000 [==============================] - 1s 127us/step - loss: 0.0217 - acc: 0.9968\n",
      "Epoch 66/100\n",
      "6000/6000 [==============================] - 1s 142us/step - loss: 0.0212 - acc: 0.9972\n",
      "Epoch 67/100\n",
      "6000/6000 [==============================] - 2s 258us/step - loss: 0.0204 - acc: 0.9975\n",
      "Epoch 68/100\n",
      "6000/6000 [==============================] - 1s 169us/step - loss: 0.0200 - acc: 0.9975\n",
      "Epoch 69/100\n",
      "6000/6000 [==============================] - 1s 202us/step - loss: 0.0209 - acc: 0.9967\n",
      "Epoch 70/100\n",
      "6000/6000 [==============================] - 1s 187us/step - loss: 0.0179 - acc: 0.9982\n",
      "Epoch 71/100\n",
      "6000/6000 [==============================] - 1s 232us/step - loss: 0.0167 - acc: 0.9982\n",
      "Epoch 72/100\n",
      "6000/6000 [==============================] - 1s 120us/step - loss: 0.0159 - acc: 0.9988\n",
      "Epoch 73/100\n",
      "6000/6000 [==============================] - 1s 118us/step - loss: 0.0148 - acc: 0.9985\n",
      "Epoch 74/100\n",
      "6000/6000 [==============================] - 1s 120us/step - loss: 0.0142 - acc: 0.9988\n",
      "Epoch 75/100\n",
      "6000/6000 [==============================] - 1s 122us/step - loss: 0.0127 - acc: 0.9987\n",
      "Epoch 76/100\n",
      "6000/6000 [==============================] - 1s 116us/step - loss: 0.0121 - acc: 0.9988\n",
      "Epoch 77/100\n",
      "6000/6000 [==============================] - 1s 122us/step - loss: 0.0117 - acc: 0.9990\n",
      "Epoch 78/100\n",
      "6000/6000 [==============================] - 1s 127us/step - loss: 0.0115 - acc: 0.9992\n",
      "Epoch 79/100\n",
      "6000/6000 [==============================] - 1s 118us/step - loss: 0.0109 - acc: 0.9992\n",
      "Epoch 80/100\n",
      "6000/6000 [==============================] - 1s 120us/step - loss: 0.0110 - acc: 0.9992\n",
      "Epoch 81/100\n",
      "6000/6000 [==============================] - 1s 124us/step - loss: 0.0106 - acc: 0.9992\n",
      "Epoch 82/100\n"
     ]
    },
    {
     "name": "stdout",
     "output_type": "stream",
     "text": [
      "6000/6000 [==============================] - 1s 113us/step - loss: 0.0104 - acc: 0.9992\n",
      "Epoch 83/100\n",
      "6000/6000 [==============================] - 2s 297us/step - loss: 0.0103 - acc: 0.9993\n",
      "Epoch 84/100\n",
      "6000/6000 [==============================] - 1s 110us/step - loss: 0.0101 - acc: 0.9993\n",
      "Epoch 85/100\n",
      "6000/6000 [==============================] - 1s 108us/step - loss: 0.0094 - acc: 0.9995\n",
      "Epoch 86/100\n",
      "6000/6000 [==============================] - 1s 175us/step - loss: 0.0090 - acc: 0.9995\n",
      "Epoch 87/100\n",
      "6000/6000 [==============================] - 1s 124us/step - loss: 0.0089 - acc: 0.9993\n",
      "Epoch 88/100\n",
      "6000/6000 [==============================] - 1s 114us/step - loss: 0.0088 - acc: 0.9995\n",
      "Epoch 89/100\n",
      "6000/6000 [==============================] - 1s 119us/step - loss: 0.0085 - acc: 0.9995\n",
      "Epoch 90/100\n",
      "6000/6000 [==============================] - 1s 132us/step - loss: 0.0082 - acc: 0.9993\n",
      "Epoch 91/100\n",
      "6000/6000 [==============================] - 1s 140us/step - loss: 0.0079 - acc: 0.9995\n",
      "Epoch 92/100\n",
      "6000/6000 [==============================] - 1s 133us/step - loss: 0.0078 - acc: 0.9993\n",
      "Epoch 93/100\n",
      "6000/6000 [==============================] - 1s 105us/step - loss: 0.0076 - acc: 0.9995\n",
      "Epoch 94/100\n",
      "6000/6000 [==============================] - 1s 102us/step - loss: 0.0075 - acc: 0.9995\n",
      "Epoch 95/100\n",
      "6000/6000 [==============================] - 1s 108us/step - loss: 0.0073 - acc: 0.9995\n",
      "Epoch 96/100\n",
      "6000/6000 [==============================] - 1s 174us/step - loss: 0.0071 - acc: 0.9995\n",
      "Epoch 97/100\n",
      "6000/6000 [==============================] - 1s 205us/step - loss: 0.0070 - acc: 0.9995\n",
      "Epoch 98/100\n",
      "6000/6000 [==============================] - 1s 213us/step - loss: 0.0069 - acc: 0.9995\n",
      "Epoch 99/100\n",
      "6000/6000 [==============================] - 1s 198us/step - loss: 0.0068 - acc: 0.9995\n",
      "Epoch 100/100\n",
      "6000/6000 [==============================] - 1s 207us/step - loss: 0.0067 - acc: 0.9995\n"
     ]
    }
   ],
   "source": [
    "# verbose: 出力結果を表示するか(0or1)\n",
    "# epochs: 同じデータセットに対して, 繰り返し学習を行う回数\n",
    "history = model.fit(X_train, y_train, verbose=1, epochs=100)"
   ]
  },
  {
   "cell_type": "code",
   "execution_count": 86,
   "metadata": {},
   "outputs": [
    {
     "data": {
      "image/png": "[encoded data removed]",
      "text/plain": [
       "<Figure size 432x288 with 1 Axes>"
      ]
     },
     "metadata": {},
     "output_type": "display_data"
    }
   ],
   "source": [
    "#acc(訓練データに対する精度)のプロット\n",
    "plt.plot(history.history[\"acc\"], label=\"acc\", ls=\"-\", marker=\"o\")\n",
    "plt.ylabel(\"accuracy\")\n",
    "plt.xlabel(\"epoch\")\n",
    "plt.legend(loc=\"best\")\n",
    "plt.show()"
   ]
  },
  {
   "cell_type": "code",
   "execution_count": 87,
   "metadata": {},
   "outputs": [
    {
     "name": "stdout",
     "output_type": "stream",
     "text": [
      "1000/1000 [==============================] - 0s 209us/step\n"
     ]
    }
   ],
   "source": [
    "# 汎化精度 (損失関数, 正解率)\n",
    "score = model.evaluate(X_test, y_test, verbose=1)"
   ]
  },
  {
   "cell_type": "code",
   "execution_count": 88,
   "metadata": {},
   "outputs": [
    {
     "name": "stdout",
     "output_type": "stream",
     "text": [
      "evaluate loss: 0.2857363839149475\n",
      "evaluate acc: 0.92\n"
     ]
    }
   ],
   "source": [
    "print(\"evaluate loss: {0[0]}\\nevaluate acc: {0[1]}\".format(score))"
   ]
  },
  {
   "cell_type": "markdown",
   "metadata": {},
   "source": [
    "### モデルによる分類"
   ]
  },
  {
   "cell_type": "code",
   "execution_count": 25,
   "metadata": {},
   "outputs": [],
   "source": [
    "import numpy as np"
   ]
  },
  {
   "cell_type": "code",
   "execution_count": 41,
   "metadata": {},
   "outputs": [
    {
     "name": "stdout",
     "output_type": "stream",
     "text": [
      "[7 2 1 0 4 1 4 9 6 9]\n"
     ]
    }
   ],
   "source": [
    "# axis = 1 (行), axis = 0 (列), なし (全て)\n",
    "pred = np.argmax(model.predict(X_test[0:10]),axis = 1)\n",
    "print(pred)"
   ]
  },
  {
   "cell_type": "markdown",
   "metadata": {},
   "source": [
    "## ハイパーパラメータ"
   ]
  },
  {
   "cell_type": "markdown",
   "metadata": {},
   "source": [
    "- 隠れ層が多くなると, 過学習等が起こりやすくなる! Dropoutを使うと, 適宜ユニットを削除できる\n",
    "- 活性化関数(シグモイド関数, Relu関数)\n",
    "- 損失関数\n",
    "    - 二乗誤差: 回帰問題\n",
    "    - クロスエントロピー誤差: 分類問題\n",
    "- 最適化関数: SGD(確率的勾配降下), Adagrad等\n",
    "https://qiita.com/tokkuman/items/1944c00415d129ca0ee9\n",
    "https://keras.io/optimizers/\n",
    "\n",
    "- 学習率: 各層の重みを一度にどの程度変更するか\n",
    "- バッチサイズ: 一度にモデルに渡す入力データの数\n",
    "    - 癖の強いデータが多い時には, バッチサイズを大きくする\n",
    "    - 同じようなデータが多い時はバッチサイズを小さくする\n",
    "- エポック数: 反復学習を行う回数, 適切なタイミングで学習を打ち切ることで過学習を防げる"
   ]
  },
  {
   "cell_type": "code",
   "execution_count": 89,
   "metadata": {},
   "outputs": [],
   "source": [
    "# 学習率を途中で変化させる.\n",
    "def step_decay(epoch):\n",
    "    x = 0.1\n",
    "    if epoch >= 50: x = 0.05\n",
    "    if epoch >= 75: x = 0.01\n",
    "    return x\n",
    "# 実行\n",
    "lr_decay = LearningRateScheduler(step_decay)"
   ]
  },
  {
   "cell_type": "code",
   "execution_count": 95,
   "metadata": {},
   "outputs": [
    {
     "name": "stdout",
     "output_type": "stream",
     "text": [
      "Train on 6000 samples, validate on 1000 samples\n",
      "Epoch 1/100\n",
      "6000/6000 [==============================] - 2s 265us/step - loss: 0.7853 - acc: 0.7750 - val_loss: 0.5410 - val_acc: 0.8330\n",
      "Epoch 2/100\n",
      "6000/6000 [==============================] - 1s 150us/step - loss: 0.4000 - acc: 0.8858 - val_loss: 0.4979 - val_acc: 0.8470\n",
      "Epoch 3/100\n",
      "6000/6000 [==============================] - 1s 162us/step - loss: 0.3894 - acc: 0.8835 - val_loss: 0.4270 - val_acc: 0.8680\n",
      "Epoch 4/100\n",
      "6000/6000 [==============================] - 1s 174us/step - loss: 0.3626 - acc: 0.8915 - val_loss: 0.4226 - val_acc: 0.8580\n",
      "Epoch 5/100\n",
      "6000/6000 [==============================] - 1s 171us/step - loss: 0.3479 - acc: 0.8948 - val_loss: 0.4455 - val_acc: 0.8560\n",
      "Epoch 6/100\n",
      "6000/6000 [==============================] - 1s 171us/step - loss: 0.3117 - acc: 0.9067 - val_loss: 0.4045 - val_acc: 0.8780\n",
      "Epoch 7/100\n",
      "6000/6000 [==============================] - 1s 187us/step - loss: 0.3095 - acc: 0.9082 - val_loss: 0.4111 - val_acc: 0.8690\n",
      "Epoch 8/100\n",
      "6000/6000 [==============================] - 1s 175us/step - loss: 0.3029 - acc: 0.9038 - val_loss: 0.4363 - val_acc: 0.8530\n",
      "Epoch 9/100\n",
      "6000/6000 [==============================] - 1s 196us/step - loss: 0.2989 - acc: 0.9080 - val_loss: 0.3768 - val_acc: 0.8770\n",
      "Epoch 10/100\n",
      "6000/6000 [==============================] - 1s 242us/step - loss: 0.3034 - acc: 0.9020 - val_loss: 0.4090 - val_acc: 0.8680\n",
      "Epoch 11/100\n",
      "6000/6000 [==============================] - 1s 164us/step - loss: 0.2841 - acc: 0.9103 - val_loss: 0.3906 - val_acc: 0.8720\n",
      "Epoch 12/100\n",
      "6000/6000 [==============================] - 1s 196us/step - loss: 0.2837 - acc: 0.9095 - val_loss: 0.3599 - val_acc: 0.8750\n",
      "Epoch 13/100\n",
      "6000/6000 [==============================] - 1s 165us/step - loss: 0.2649 - acc: 0.9208 - val_loss: 0.3771 - val_acc: 0.8810\n",
      "Epoch 14/100\n",
      "6000/6000 [==============================] - 1s 166us/step - loss: 0.2690 - acc: 0.9147 - val_loss: 0.3809 - val_acc: 0.8700\n",
      "Epoch 15/100\n",
      "6000/6000 [==============================] - 1s 179us/step - loss: 0.2617 - acc: 0.9178 - val_loss: 0.3601 - val_acc: 0.8800\n",
      "Epoch 16/100\n",
      "6000/6000 [==============================] - 1s 180us/step - loss: 0.2526 - acc: 0.9180 - val_loss: 0.3737 - val_acc: 0.8720\n",
      "Epoch 17/100\n",
      "6000/6000 [==============================] - 1s 171us/step - loss: 0.2611 - acc: 0.9110 - val_loss: 0.3798 - val_acc: 0.8740\n",
      "Epoch 18/100\n",
      "6000/6000 [==============================] - 1s 174us/step - loss: 0.2531 - acc: 0.9177 - val_loss: 0.3745 - val_acc: 0.8880\n",
      "Epoch 19/100\n",
      "6000/6000 [==============================] - 1s 183us/step - loss: 0.2482 - acc: 0.9205 - val_loss: 0.3386 - val_acc: 0.8960\n",
      "Epoch 20/100\n",
      "6000/6000 [==============================] - 1s 184us/step - loss: 0.2406 - acc: 0.9263 - val_loss: 0.3957 - val_acc: 0.8750\n",
      "Epoch 21/100\n",
      "6000/6000 [==============================] - 1s 180us/step - loss: 0.2396 - acc: 0.9223 - val_loss: 0.3575 - val_acc: 0.8760\n",
      "Epoch 22/100\n",
      "6000/6000 [==============================] - 1s 172us/step - loss: 0.2293 - acc: 0.9275 - val_loss: 0.3417 - val_acc: 0.8910\n",
      "Epoch 23/100\n",
      "6000/6000 [==============================] - 1s 147us/step - loss: 0.2245 - acc: 0.9278 - val_loss: 0.3312 - val_acc: 0.8900\n",
      "Epoch 24/100\n",
      "6000/6000 [==============================] - 1s 217us/step - loss: 0.2405 - acc: 0.9247 - val_loss: 0.3373 - val_acc: 0.8850\n",
      "Epoch 25/100\n",
      "6000/6000 [==============================] - 1s 177us/step - loss: 0.2471 - acc: 0.9202 - val_loss: 0.3368 - val_acc: 0.8900\n",
      "Epoch 26/100\n",
      "6000/6000 [==============================] - 1s 186us/step - loss: 0.2130 - acc: 0.9347 - val_loss: 0.3488 - val_acc: 0.8900\n",
      "Epoch 27/100\n",
      "6000/6000 [==============================] - 1s 214us/step - loss: 0.2228 - acc: 0.9303 - val_loss: 0.3760 - val_acc: 0.8810\n",
      "Epoch 28/100\n",
      "6000/6000 [==============================] - 1s 195us/step - loss: 0.2294 - acc: 0.9268 - val_loss: 0.4066 - val_acc: 0.8690\n",
      "Epoch 29/100\n",
      "6000/6000 [==============================] - 1s 175us/step - loss: 0.2171 - acc: 0.9288 - val_loss: 0.3534 - val_acc: 0.8850\n",
      "Epoch 30/100\n",
      "6000/6000 [==============================] - 1s 164us/step - loss: 0.2163 - acc: 0.9305 - val_loss: 0.3985 - val_acc: 0.8730\n",
      "Epoch 31/100\n",
      "6000/6000 [==============================] - 1s 188us/step - loss: 0.2158 - acc: 0.9303 - val_loss: 0.3281 - val_acc: 0.8910\n",
      "Epoch 32/100\n",
      "6000/6000 [==============================] - 1s 164us/step - loss: 0.2121 - acc: 0.9317 - val_loss: 0.3617 - val_acc: 0.8900\n",
      "Epoch 33/100\n",
      "6000/6000 [==============================] - 1s 158us/step - loss: 0.2139 - acc: 0.9315 - val_loss: 0.3200 - val_acc: 0.9010\n",
      "Epoch 34/100\n",
      "6000/6000 [==============================] - 1s 154us/step - loss: 0.1981 - acc: 0.9375 - val_loss: 0.3039 - val_acc: 0.9050\n",
      "Epoch 35/100\n",
      "6000/6000 [==============================] - 1s 155us/step - loss: 0.2081 - acc: 0.9372 - val_loss: 0.3085 - val_acc: 0.9070\n",
      "Epoch 36/100\n",
      "6000/6000 [==============================] - 1s 150us/step - loss: 0.1895 - acc: 0.9397 - val_loss: 0.2977 - val_acc: 0.9040\n",
      "Epoch 37/100\n",
      "6000/6000 [==============================] - 1s 156us/step - loss: 0.1916 - acc: 0.9363 - val_loss: 0.3304 - val_acc: 0.8870\n",
      "Epoch 38/100\n",
      "6000/6000 [==============================] - 1s 175us/step - loss: 0.2012 - acc: 0.9353 - val_loss: 0.3153 - val_acc: 0.8990\n",
      "Epoch 39/100\n",
      "6000/6000 [==============================] - 1s 171us/step - loss: 0.2000 - acc: 0.9352 - val_loss: 0.2636 - val_acc: 0.9010\n",
      "Epoch 40/100\n",
      "6000/6000 [==============================] - 1s 184us/step - loss: 0.1849 - acc: 0.9390 - val_loss: 0.2625 - val_acc: 0.9140\n",
      "Epoch 41/100\n",
      "6000/6000 [==============================] - 1s 178us/step - loss: 0.1808 - acc: 0.9425 - val_loss: 0.3756 - val_acc: 0.8740\n",
      "Epoch 42/100\n",
      "6000/6000 [==============================] - 1s 197us/step - loss: 0.1831 - acc: 0.9402 - val_loss: 0.3086 - val_acc: 0.8930\n",
      "Epoch 43/100\n",
      "6000/6000 [==============================] - 1s 191us/step - loss: 0.1821 - acc: 0.9423 - val_loss: 0.2876 - val_acc: 0.9130\n",
      "Epoch 44/100\n",
      "6000/6000 [==============================] - 1s 216us/step - loss: 0.1816 - acc: 0.9435 - val_loss: 0.2446 - val_acc: 0.9190\n",
      "Epoch 45/100\n",
      "6000/6000 [==============================] - 1s 214us/step - loss: 0.1875 - acc: 0.9407 - val_loss: 0.2655 - val_acc: 0.9110\n",
      "Epoch 46/100\n",
      "6000/6000 [==============================] - 1s 182us/step - loss: 0.1809 - acc: 0.9425 - val_loss: 0.2987 - val_acc: 0.9040\n",
      "Epoch 47/100\n",
      "6000/6000 [==============================] - 1s 189us/step - loss: 0.1742 - acc: 0.9440 - val_loss: 0.2646 - val_acc: 0.9230\n",
      "Epoch 48/100\n",
      "6000/6000 [==============================] - 1s 182us/step - loss: 0.1631 - acc: 0.9478 - val_loss: 0.2528 - val_acc: 0.9140\n",
      "Epoch 49/100\n",
      "6000/6000 [==============================] - 1s 177us/step - loss: 0.1516 - acc: 0.9525 - val_loss: 0.2731 - val_acc: 0.9160\n",
      "Epoch 50/100\n",
      "6000/6000 [==============================] - 1s 184us/step - loss: 0.1540 - acc: 0.9490 - val_loss: 0.2482 - val_acc: 0.9170\n",
      "Epoch 51/100\n",
      "6000/6000 [==============================] - 1s 160us/step - loss: 0.1408 - acc: 0.9595 - val_loss: 0.2861 - val_acc: 0.9080\n",
      "Epoch 52/100\n",
      "6000/6000 [==============================] - 1s 148us/step - loss: 0.1430 - acc: 0.9557 - val_loss: 0.2698 - val_acc: 0.9200\n",
      "Epoch 53/100\n",
      "6000/6000 [==============================] - 1s 151us/step - loss: 0.1456 - acc: 0.9532 - val_loss: 0.2534 - val_acc: 0.9210\n",
      "Epoch 54/100\n",
      "6000/6000 [==============================] - 1s 147us/step - loss: 0.1335 - acc: 0.9577 - val_loss: 0.2782 - val_acc: 0.9150\n",
      "Epoch 55/100\n",
      "6000/6000 [==============================] - 1s 146us/step - loss: 0.1375 - acc: 0.9567 - val_loss: 0.2591 - val_acc: 0.9140\n",
      "Epoch 56/100\n",
      "6000/6000 [==============================] - 1s 149us/step - loss: 0.1357 - acc: 0.9565 - val_loss: 0.2739 - val_acc: 0.9020\n",
      "Epoch 57/100\n",
      "6000/6000 [==============================] - 1s 157us/step - loss: 0.1326 - acc: 0.9575 - val_loss: 0.3031 - val_acc: 0.9060\n",
      "Epoch 58/100\n",
      "6000/6000 [==============================] - 1s 159us/step - loss: 0.1421 - acc: 0.9560 - val_loss: 0.2642 - val_acc: 0.9130\n",
      "Epoch 59/100\n",
      "6000/6000 [==============================] - 1s 164us/step - loss: 0.1458 - acc: 0.9528 - val_loss: 0.2598 - val_acc: 0.9130\n",
      "Epoch 60/100\n"
     ]
    },
    {
     "name": "stdout",
     "output_type": "stream",
     "text": [
      "6000/6000 [==============================] - 1s 170us/step - loss: 0.1356 - acc: 0.9577 - val_loss: 0.2838 - val_acc: 0.9220\n",
      "Epoch 61/100\n",
      "6000/6000 [==============================] - 1s 165us/step - loss: 0.1386 - acc: 0.9562 - val_loss: 0.3093 - val_acc: 0.8980\n",
      "Epoch 62/100\n",
      "6000/6000 [==============================] - 1s 177us/step - loss: 0.1597 - acc: 0.9462 - val_loss: 0.2847 - val_acc: 0.9100\n",
      "Epoch 63/100\n",
      "6000/6000 [==============================] - 1s 185us/step - loss: 0.1415 - acc: 0.9545 - val_loss: 0.2801 - val_acc: 0.9020\n",
      "Epoch 64/100\n",
      "6000/6000 [==============================] - 1s 184us/step - loss: 0.1393 - acc: 0.9548 - val_loss: 0.3151 - val_acc: 0.9030\n",
      "Epoch 65/100\n",
      "6000/6000 [==============================] - 1s 186us/step - loss: 0.1407 - acc: 0.9543 - val_loss: 0.2805 - val_acc: 0.9140\n",
      "Epoch 66/100\n",
      "6000/6000 [==============================] - 1s 178us/step - loss: 0.1440 - acc: 0.9507 - val_loss: 0.2483 - val_acc: 0.9210\n",
      "Epoch 67/100\n",
      "6000/6000 [==============================] - 1s 156us/step - loss: 0.1469 - acc: 0.9522 - val_loss: 0.2678 - val_acc: 0.9070\n",
      "Epoch 68/100\n",
      "6000/6000 [==============================] - 1s 158us/step - loss: 0.1449 - acc: 0.9520 - val_loss: 0.2915 - val_acc: 0.9030\n",
      "Epoch 69/100\n",
      "6000/6000 [==============================] - 1s 148us/step - loss: 0.1424 - acc: 0.9530 - val_loss: 0.2830 - val_acc: 0.9100\n",
      "Epoch 70/100\n",
      "6000/6000 [==============================] - 1s 151us/step - loss: 0.1351 - acc: 0.9562 - val_loss: 0.2974 - val_acc: 0.9020\n",
      "Epoch 71/100\n",
      "6000/6000 [==============================] - 1s 173us/step - loss: 0.1280 - acc: 0.9548 - val_loss: 0.2534 - val_acc: 0.9150\n",
      "Epoch 72/100\n",
      "6000/6000 [==============================] - 1s 178us/step - loss: 0.1256 - acc: 0.9578 - val_loss: 0.2691 - val_acc: 0.9090\n",
      "Epoch 73/100\n",
      "6000/6000 [==============================] - 1s 174us/step - loss: 0.1282 - acc: 0.9565 - val_loss: 0.2671 - val_acc: 0.9170\n",
      "Epoch 74/100\n",
      "6000/6000 [==============================] - 1s 186us/step - loss: 0.1284 - acc: 0.9543 - val_loss: 0.2745 - val_acc: 0.9050\n",
      "Epoch 75/100\n",
      "6000/6000 [==============================] - 1s 183us/step - loss: 0.1179 - acc: 0.9618 - val_loss: 0.3193 - val_acc: 0.9000\n",
      "Epoch 76/100\n",
      "6000/6000 [==============================] - 1s 181us/step - loss: 0.1110 - acc: 0.9652 - val_loss: 0.2766 - val_acc: 0.9140\n",
      "Epoch 77/100\n",
      "6000/6000 [==============================] - 1s 167us/step - loss: 0.1089 - acc: 0.9625 - val_loss: 0.2883 - val_acc: 0.9090\n",
      "Epoch 78/100\n",
      "6000/6000 [==============================] - 1s 153us/step - loss: 0.1096 - acc: 0.9643 - val_loss: 0.2785 - val_acc: 0.9170\n",
      "Epoch 79/100\n",
      "6000/6000 [==============================] - 1s 180us/step - loss: 0.1082 - acc: 0.9650 - val_loss: 0.2843 - val_acc: 0.9040\n",
      "Epoch 80/100\n",
      "6000/6000 [==============================] - 1s 189us/step - loss: 0.1025 - acc: 0.9650 - val_loss: 0.2917 - val_acc: 0.9140\n",
      "Epoch 81/100\n",
      "6000/6000 [==============================] - 1s 197us/step - loss: 0.0939 - acc: 0.9683 - val_loss: 0.2780 - val_acc: 0.9230\n",
      "Epoch 82/100\n",
      "6000/6000 [==============================] - 1s 153us/step - loss: 0.0982 - acc: 0.9680 - val_loss: 0.2808 - val_acc: 0.9140\n",
      "Epoch 83/100\n",
      "6000/6000 [==============================] - 1s 168us/step - loss: 0.0995 - acc: 0.9673 - val_loss: 0.2598 - val_acc: 0.9220\n",
      "Epoch 84/100\n",
      "6000/6000 [==============================] - 1s 176us/step - loss: 0.1071 - acc: 0.9645 - val_loss: 0.2907 - val_acc: 0.9190\n",
      "Epoch 85/100\n",
      "6000/6000 [==============================] - 1s 165us/step - loss: 0.0981 - acc: 0.9662 - val_loss: 0.2926 - val_acc: 0.9100\n",
      "Epoch 86/100\n",
      "6000/6000 [==============================] - 1s 165us/step - loss: 0.0970 - acc: 0.9688 - val_loss: 0.2613 - val_acc: 0.9290\n",
      "Epoch 87/100\n",
      "6000/6000 [==============================] - 1s 171us/step - loss: 0.0841 - acc: 0.9722 - val_loss: 0.2656 - val_acc: 0.9200\n",
      "Epoch 88/100\n",
      "6000/6000 [==============================] - 1s 184us/step - loss: 0.0879 - acc: 0.9717 - val_loss: 0.2757 - val_acc: 0.9130\n",
      "Epoch 89/100\n",
      "6000/6000 [==============================] - 1s 170us/step - loss: 0.0829 - acc: 0.9727 - val_loss: 0.2942 - val_acc: 0.9250\n",
      "Epoch 90/100\n",
      "6000/6000 [==============================] - 1s 181us/step - loss: 0.0874 - acc: 0.9713 - val_loss: 0.2908 - val_acc: 0.9110\n",
      "Epoch 91/100\n",
      "6000/6000 [==============================] - 1s 183us/step - loss: 0.1003 - acc: 0.9667 - val_loss: 0.3050 - val_acc: 0.9190\n",
      "Epoch 92/100\n",
      "6000/6000 [==============================] - 1s 158us/step - loss: 0.0940 - acc: 0.9653 - val_loss: 0.3115 - val_acc: 0.9170\n",
      "Epoch 93/100\n",
      "6000/6000 [==============================] - 1s 160us/step - loss: 0.0986 - acc: 0.9633 - val_loss: 0.2643 - val_acc: 0.9150\n",
      "Epoch 94/100\n",
      "6000/6000 [==============================] - 1s 159us/step - loss: 0.0992 - acc: 0.9667 - val_loss: 0.2863 - val_acc: 0.9140\n",
      "Epoch 95/100\n",
      "6000/6000 [==============================] - 1s 166us/step - loss: 0.1166 - acc: 0.9608 - val_loss: 0.2320 - val_acc: 0.9320\n",
      "Epoch 96/100\n",
      "6000/6000 [==============================] - 1s 177us/step - loss: 0.1142 - acc: 0.9608 - val_loss: 0.3017 - val_acc: 0.9050\n",
      "Epoch 97/100\n",
      "6000/6000 [==============================] - 1s 163us/step - loss: 0.1081 - acc: 0.9628 - val_loss: 0.3160 - val_acc: 0.9000\n",
      "Epoch 98/100\n",
      "6000/6000 [==============================] - 1s 172us/step - loss: 0.1146 - acc: 0.9633 - val_loss: 0.2535 - val_acc: 0.9170\n",
      "Epoch 99/100\n",
      "6000/6000 [==============================] - 1s 184us/step - loss: 0.1063 - acc: 0.9645 - val_loss: 0.2560 - val_acc: 0.9220\n",
      "Epoch 100/100\n",
      "6000/6000 [==============================] - 1s 185us/step - loss: 0.1037 - acc: 0.9663 - val_loss: 0.2595 - val_acc: 0.9190\n"
     ]
    },
    {
     "data": {
      "image/png": "[encoded data removed]",
      "text/plain": [
       "<Figure size 432x288 with 1 Axes>"
      ]
     },
     "metadata": {},
     "output_type": "display_data"
    },
    {
     "name": "stdout",
     "output_type": "stream",
     "text": [
      "evaluate loss: 0.2595015336871147\n",
      "evaluate acc: 0.919\n"
     ]
    }
   ],
   "source": [
    "# モデルインスタンスを作成する\n",
    "model = Sequential()\n",
    "# 入力ユニット数は784, 1つ目の全結合層の出力ユニット数は256\n",
    "model.add(Dense(256, input_dim=784))\n",
    "# 活性化関数(sigmoid)\n",
    "model.add(Activation(\"sigmoid\"))\n",
    "# 入力ユニット数は150, 2つ目の全結合層の出力ユニット数は128\n",
    "model.add(Dense(128))\n",
    "model.add(Activation(\"relu\"))\n",
    "# Drop out\n",
    "# model.add(Dropout(rate=0.5))\n",
    "\n",
    "# 3つ目の全結合層（出力層）の出力ユニット数は10\n",
    "model.add(Dense(10))\n",
    "model.add(Activation(\"softmax\"))\n",
    "\n",
    "# optimizer\n",
    "#sgd = optimizers.SGD(lr=0.1)\n",
    "adam = optimizers.Adam(lr=0.01)\n",
    "\n",
    "model.compile(optimizer=\"adam\", loss=\"categorical_crossentropy\", \n",
    "              metrics=[\"accuracy\"])\n",
    "# fitting\n",
    "#history = model.fit(X_train, y_train, epochs=10, verbose=1, \n",
    " #                   validation_data=(X_test, y_test),\n",
    "  #                  callbacks=[lr_decay])\n",
    "history = model.fit(X_train, y_train, epochs=100, verbose=1, \n",
    "                    validation_data=(X_test, y_test))\n",
    "\n",
    "#acc, val_accのプロット\n",
    "plt.plot(history.history[\"acc\"], label=\"acc\", ls=\"-\", marker=\"o\")\n",
    "plt.plot(history.history[\"val_acc\"], label=\"val_acc\", ls=\"-\", marker=\"x\")\n",
    "plt.ylabel(\"accuracy\")\n",
    "plt.xlabel(\"epoch\")\n",
    "plt.legend(loc=\"best\")\n",
    "plt.show()\n",
    "\n",
    "score = model.evaluate(X_test, y_test, verbose=0)\n",
    "print(\"evaluate loss: {0[0]}\\nevaluate acc: {0[1]}\".format(score))"
   ]
  },
  {
   "cell_type": "code",
   "execution_count": 96,
   "metadata": {},
   "outputs": [
    {
     "data": {
      "text/plain": [
       "<keras.models.Sequential at 0x125f11d68>"
      ]
     },
     "execution_count": 96,
     "metadata": {},
     "output_type": "execute_result"
    }
   ],
   "source": [
    "model"
   ]
  },
  {
   "cell_type": "code",
   "execution_count": null,
   "metadata": {},
   "outputs": [],
   "source": []
  }
 ],
 "metadata": {
  "kernelspec": {
   "display_name": "Python 3",
   "language": "python",
   "name": "python3"
  },
  "language_info": {
   "codemirror_mode": {
    "name": "ipython",
    "version": 3
   },
   "file_extension": ".py",
   "mimetype": "text/x-python",
   "name": "python",
   "nbconvert_exporter": "python",
   "pygments_lexer": "ipython3",
   "version": "3.6.5"
  },
  "toc": {
   "base_numbering": 1,
   "nav_menu": {},
   "number_sections": true,
   "sideBar": true,
   "skip_h1_title": false,
   "title_cell": "Table of Contents",
   "title_sidebar": "Contents",
   "toc_cell": false,
   "toc_position": {},
   "toc_section_display": true,
   "toc_window_display": false
  }
 },
 "nbformat": 4,
 "nbformat_minor": 2
}
